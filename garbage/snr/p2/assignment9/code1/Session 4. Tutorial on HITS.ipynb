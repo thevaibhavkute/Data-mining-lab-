{
 "cells": [
  {
   "cell_type": "markdown",
   "metadata": {},
   "source": [
    "# Hands-on Tutorial for Link Analysis\n",
    "\n",
    "Welcome to hands-on tutorial for link analysis. \n",
    "In this tutorial, we will study several techniques for link analysis in graphs. \n",
    "This tutorial consists of four sessions, and each session will handle the following topic:\n",
    "\n",
    "* **Session 1**. Tutorial on PageRank - Part 1 (50 mins)\n",
    "* **Session 2**. Tutorial on PageRank - Part 2 (50 mins)\n",
    "* **Session 3**. Tutorial on Topic-specific PageRank (50 mins)\n",
    "* **Session 4**. Tutorial on HITS (50 mins) <<<\n",
    "\n",
    "We recommend fully understanding link analysis (or ranking) models such as PageRank, Topic-specific PageRank, and HITS before entering this tutorial since we will **NOT** explain the theoretical backgrounds on these techniques during the tutorial. \n",
    "We will mainly focus on how to implement the algorithms of those models and how to rank nodes in real-world graphs using those ranking models. \n",
    "\n",
    "The main contributor of this meterial is as follows:\n",
    "\n",
    "* Jinhong Jung (jinhongjung@snu.ac.kr)\n",
    "\n",
    "------"
   ]
  },
  {
   "cell_type": "markdown",
   "metadata": {},
   "source": [
    "## Session 4. Tutorial on HITS (50 mins)\n",
    "In this session, we will explore how to implement HITS in Python. \n",
    "The main goals of this session are summarized as follows:\n",
    "* **Goal 1.** How to implement HITS based on sparse matrices using `numpy` and `scipy` in Python\n",
    "* **Goal 2.** To perform a qualitative analysis of the ranking result from HITS in real-world networks\n",
    "\n",
    "The outline of this session is as follows:\n",
    "* **Step 1.** Review HITS algorithm\n",
    "* **Step 2.** Implement HITS algorithm - the sparse matrix version\n",
    "* **Step 3.** Validate your HITS implementation\n",
    "* **Step 4.** Qualitative analysis of the ranking result from HITS\n",
    "* **Step 5.** Comparison between PageRank and HITS\n",
    "------"
   ]
  },
  {
   "cell_type": "markdown",
   "metadata": {},
   "source": [
    "### Step 1. Review HITS algorithm\n",
    "\n",
    "In this step, we will briefly review HITS algorithm which is another global node ranking model in graphs. "
   ]
  },
  {
   "cell_type": "markdown",
   "metadata": {},
   "source": [
    "#### Step 1-1. Mathematical definition of HITS\n",
    "Given an adjacency matrix of a graph, HITS computes the hub and authority score vectors which can be used for ranking nodes in the graph. \n",
    "\n",
    "##### Problem definition of HITS\n",
    "* **Input**: adjacency matrix $\\mathbf{A}\\in \\mathbb{R}^{n \\times n}$ of a graph $G=(V, E)$\n",
    "* **Output**: hub score vector $\\mathbf{h} \\in \\mathbb{R}^{n}$, and authority score vector $\\mathbf{a} \\in \\mathbb{R}^{n}$ such that\n",
    "\n",
    "    - $\\mathbf{h} = \\mathbf{A}\\mathbf{a}$\n",
    "    - $\\mathbf{a} = \\mathbf{A}^{\\top}\\mathbf{h}$\n",
    "\n",
    "* The above equations are called the equations for HITS.\n",
    "\n",
    "Note that HITS does not require the row-normalized adjacency matrix. "
   ]
  },
  {
   "cell_type": "markdown",
   "metadata": {},
   "source": [
    "#### Step 1-2. Iterative Algorithm for HITS\n",
    "The hub and authority score vectors, $\\mathbf{h}$ and $\\mathbf{a}$, are obtained by iteratively computing the equations for HITS.   \n",
    "Note that for each iteration, we need to L2-normalize the vectors $\\mathbf{h}$ and $\\mathbf{a}$.\n",
    "The following pseudo-code represents the iterative algorithm for HITS. \n",
    "\n",
    "<img src=\"./images/iterative-algorithm-hits.png\" width=\"400\">\n",
    "\n",
    "We will implement the iterative algorithm in Python. \n",
    "\n",
    "------"
   ]
  },
  {
   "cell_type": "markdown",
   "metadata": {},
   "source": [
    "### Step 2. Implement HITS algorithm - the sparse matrix version\n",
    "We are going to implement the sparse matrix version of HITS algorithm in Python."
   ]
  },
  {
   "cell_type": "markdown",
   "metadata": {},
   "source": [
    "#### Step 2-1. Set up requirements for this tutorial\n",
    "\n",
    "As in the previous sessions, we first import required packages as follows:"
   ]
  },
  {
   "cell_type": "code",
   "execution_count": 1,
   "metadata": {},
   "outputs": [],
   "source": [
    "try:\n",
    "    import numpy\n",
    "except ImportError:\n",
    "    print(\"numpy is not installed, type pip install numpy\")\n",
    "\n",
    "try:\n",
    "    import scipy\n",
    "except ImportError:\n",
    "    print(\"scipy is not installed, type pip install scipy\")\n",
    "    \n",
    "try:\n",
    "    import matplotlib\n",
    "except ImportError:\n",
    "    print(\"matplotlib is not installed, type pip install matplotlib\")\n",
    "    \n",
    "try:\n",
    "    import pandas\n",
    "except ImportError:\n",
    "    print(\"pandas is not installed, type pip install pandas\")"
   ]
  },
  {
   "cell_type": "markdown",
   "metadata": {},
   "source": [
    "#### Step 2-2. Implement the phase for loading the graph dataset\n",
    "In this step, we will implement the phase for loading the graph dataset of the sparse matrix version of HITS. \n",
    "We first need to import the following packages for this. "
   ]
  },
  {
   "cell_type": "code",
   "execution_count": 2,
   "metadata": {},
   "outputs": [],
   "source": [
    "# the below commands restrict the number of computation threads to 1\n",
    "import os\n",
    "os.environ[\"MKL_NUM_THREADS\"] = \"1\" \n",
    "os.environ[\"NUMEXPR_NUM_THREADS\"] = \"1\" \n",
    "os.environ[\"OMP_NUM_THREADS\"] = \"1\" \n",
    "\n",
    "import numpy as np\n",
    "from scipy.sparse import csr_matrix, find\n",
    "import pandas as pd"
   ]
  },
  {
   "cell_type": "markdown",
   "metadata": {},
   "source": [
    "As in the previous sessions, we implement the following function for load graph datasets.\n",
    "Note that we do not need to modify the function since the functionality in the version is the same with that of Session 3. "
   ]
  },
  {
   "cell_type": "code",
   "execution_count": 3,
   "metadata": {},
   "outputs": [],
   "source": [
    "class SparseHITS:\n",
    "    def load_graph_dataset(self, data_home, is_undirected=False):\n",
    "        '''\n",
    "        Load the graph dataset from the given directory (data_home)\n",
    "\n",
    "        inputs:\n",
    "            data_home: string\n",
    "                directory path conatining a dataset (edges.tsv, node_labels.tsv)\n",
    "            is_undirected: bool\n",
    "                if the graph is undirected\n",
    "        '''\n",
    "        # Step 1. self file paths from data_home\n",
    "        edge_path = \"{}/edges.tsv\".format(data_home)\n",
    "        \n",
    "        # Step 2. read the list of edges from edge_path\n",
    "        edges = np.loadtxt(edge_path, dtype=int)\n",
    "        n = int(np.amax(edges[:, 0:2])) + 1\n",
    "        \n",
    "        # Step 3. convert the edge list to the weighted adjacency matrix\n",
    "        rows = edges[:, 0]\n",
    "        cols = edges[:, 1]\n",
    "        weights = edges[:, 2]\n",
    "        self.A = csr_matrix((weights, (rows, cols)), shape=(n, n), dtype=float)\n",
    "        if is_undirected == True:\n",
    "            self.A = self.A + self.A.T\n",
    "        self.AT = self.A.T\n",
    "                \n",
    "        # Step 4. set n (# of nodes) and m (# of edges)\n",
    "        self.n = self.A.shape[0]     # number of nodes\n",
    "        self.m = self.A.nnz          # number of edges"
   ]
  },
  {
   "cell_type": "code",
   "execution_count": 4,
   "metadata": {},
   "outputs": [],
   "source": [
    "class SparseHITS(SparseHITS):\n",
    "    def load_node_labels(self, data_home):\n",
    "        '''\n",
    "        Load the node labels from the given directory (data_home)\n",
    "\n",
    "        inputs:\n",
    "            data_home: string\n",
    "                directory path conatining a dataset\n",
    "        '''\n",
    "        label_path = \"{}/node_labels.tsv\".format(data_home)\n",
    "        self.node_labels = pd.read_csv(label_path, sep=\"\\t\")        "
   ]
  },
  {
   "cell_type": "markdown",
   "metadata": {},
   "source": [
    "Let's check if the function is correctly implemented. \n",
    "We will use the small dataset at `./data/small` as before."
   ]
  },
  {
   "cell_type": "code",
   "execution_count": 5,
   "metadata": {},
   "outputs": [
    {
     "name": "stdout",
     "output_type": "stream",
     "text": [
      "The number n of nodes: 29\n",
      "The number m of edges: 376\n"
     ]
    }
   ],
   "source": [
    "hits = SparseHITS()\n",
    "hits.load_graph_dataset('./data/small', is_undirected=False)\n",
    "print(\"The number n of nodes: {}\".format(hits.n))\n",
    "print(\"The number m of edges: {}\".format(hits.m))"
   ]
  },
  {
   "cell_type": "markdown",
   "metadata": {},
   "source": [
    "#### Step 2-3. Implement the iterative phase\n",
    "\n",
    "Contrary to PageRank, HITS does not need a normalization phase for the adjacency matrix. \n",
    "In this step, we implement the iterative phase of HITS in the following algorithm.\n",
    "\n",
    "<img src=\"./images/iterative-algorithm-hits.png\" width=\"400\">\n"
   ]
  },
  {
   "cell_type": "code",
   "execution_count": 6,
   "metadata": {},
   "outputs": [],
   "source": [
    "class SparseHITS(SparseHITS):\n",
    "    def iterate_HITS(self, epsilon=1e-9, maxIters=100):\n",
    "        '''\n",
    "        Iterate the HITS equation to obatin the hub & authority score vectors\n",
    "        \n",
    "        inputs:\n",
    "            epsilon: float\n",
    "                the error tolerance of the iteration\n",
    "            maxIters: int\n",
    "                the maximum number of iterations\n",
    "                \n",
    "        outputs:\n",
    "            h: np.ndarray (n x 1 vector)\n",
    "                the final hub score vector\n",
    "            a: np.ndarray (n x 1 vector)\n",
    "                the final authority score vector\n",
    "            h_residuals: list\n",
    "                the list of hub residuals over the iteration\n",
    "            a_residuals: list\n",
    "                the list of authority residuals over the iteration\n",
    "\n",
    "        '''\n",
    "        old_h = np.ones(self.n)/self.n\n",
    "        old_a = np.ones(self.n)/self.n\n",
    "        h_residuals = []\n",
    "        a_residuals = []\n",
    "        \n",
    "        for t in range(maxIters):\n",
    "            h = self.A.dot(old_a)\n",
    "            a = self.AT.dot(h)\n",
    "                        \n",
    "            h = h / np.linalg.norm(h, 2)\n",
    "            a = a / np.linalg.norm(a, 2)\n",
    "            \n",
    "            h_residual = np.linalg.norm(h - old_h, 1)\n",
    "            a_residual = np.linalg.norm(a - old_a, 1)\n",
    "            h_residuals.append(h_residual)\n",
    "            a_residuals.append(a_residual)\n",
    "            old_h = h\n",
    "            old_a = a\n",
    "            \n",
    "            if h_residual < epsilon and a_residual < epsilon:\n",
    "                break\n",
    "        \n",
    "        return h, a, h_residuals, a_residuals"
   ]
  },
  {
   "cell_type": "markdown",
   "metadata": {},
   "source": [
    "Let's check the implementation is correctly performed. \n",
    "We will briefly check each personalized ranking result using `pandas`. \n",
    "See the following code where a seed node is given. \n",
    "Note that the given seed node should have a high ranking score. "
   ]
  },
  {
   "cell_type": "code",
   "execution_count": 7,
   "metadata": {},
   "outputs": [],
   "source": [
    "import pandas as pd\n",
    "\n",
    "def rank_nodes(ranking_scores, topk=-1):\n",
    "    sorted_nodes = np.flipud(np.argsort(ranking_scores))\n",
    "    sorted_scores = ranking_scores[sorted_nodes]\n",
    "    ranking_results = pd.DataFrame()\n",
    "    ranking_results[\"node_id\"] = sorted_nodes\n",
    "    ranking_results[\"score\"] = sorted_scores\n",
    "    \n",
    "    return ranking_results[0:topk]"
   ]
  },
  {
   "cell_type": "code",
   "execution_count": 8,
   "metadata": {},
   "outputs": [
    {
     "name": "stdout",
     "output_type": "stream",
     "text": [
      "Top-5 rankings based on the hub score vector:\n"
     ]
    },
    {
     "data": {
      "text/html": [
       "<div>\n",
       "<style scoped>\n",
       "    .dataframe tbody tr th:only-of-type {\n",
       "        vertical-align: middle;\n",
       "    }\n",
       "\n",
       "    .dataframe tbody tr th {\n",
       "        vertical-align: top;\n",
       "    }\n",
       "\n",
       "    .dataframe thead th {\n",
       "        text-align: right;\n",
       "    }\n",
       "</style>\n",
       "<table border=\"1\" class=\"dataframe\">\n",
       "  <thead>\n",
       "    <tr style=\"text-align: right;\">\n",
       "      <th></th>\n",
       "      <th>node_id</th>\n",
       "      <th>score</th>\n",
       "    </tr>\n",
       "  </thead>\n",
       "  <tbody>\n",
       "    <tr>\n",
       "      <th>0</th>\n",
       "      <td>4</td>\n",
       "      <td>0.320863</td>\n",
       "    </tr>\n",
       "    <tr>\n",
       "      <th>1</th>\n",
       "      <td>5</td>\n",
       "      <td>0.317454</td>\n",
       "    </tr>\n",
       "    <tr>\n",
       "      <th>2</th>\n",
       "      <td>3</td>\n",
       "      <td>0.293383</td>\n",
       "    </tr>\n",
       "    <tr>\n",
       "      <th>3</th>\n",
       "      <td>2</td>\n",
       "      <td>0.224871</td>\n",
       "    </tr>\n",
       "    <tr>\n",
       "      <th>4</th>\n",
       "      <td>21</td>\n",
       "      <td>0.219779</td>\n",
       "    </tr>\n",
       "  </tbody>\n",
       "</table>\n",
       "</div>"
      ],
      "text/plain": [
       "   node_id     score\n",
       "0        4  0.320863\n",
       "1        5  0.317454\n",
       "2        3  0.293383\n",
       "3        2  0.224871\n",
       "4       21  0.219779"
      ]
     },
     "metadata": {},
     "output_type": "display_data"
    },
    {
     "name": "stdout",
     "output_type": "stream",
     "text": [
      "Top-5 rankings based on the authority score vector\n"
     ]
    },
    {
     "data": {
      "text/html": [
       "<div>\n",
       "<style scoped>\n",
       "    .dataframe tbody tr th:only-of-type {\n",
       "        vertical-align: middle;\n",
       "    }\n",
       "\n",
       "    .dataframe tbody tr th {\n",
       "        vertical-align: top;\n",
       "    }\n",
       "\n",
       "    .dataframe thead th {\n",
       "        text-align: right;\n",
       "    }\n",
       "</style>\n",
       "<table border=\"1\" class=\"dataframe\">\n",
       "  <thead>\n",
       "    <tr style=\"text-align: right;\">\n",
       "      <th></th>\n",
       "      <th>node_id</th>\n",
       "      <th>score</th>\n",
       "    </tr>\n",
       "  </thead>\n",
       "  <tbody>\n",
       "    <tr>\n",
       "      <th>0</th>\n",
       "      <td>7</td>\n",
       "      <td>0.269209</td>\n",
       "    </tr>\n",
       "    <tr>\n",
       "      <th>1</th>\n",
       "      <td>8</td>\n",
       "      <td>0.262543</td>\n",
       "    </tr>\n",
       "    <tr>\n",
       "      <th>2</th>\n",
       "      <td>10</td>\n",
       "      <td>0.260004</td>\n",
       "    </tr>\n",
       "    <tr>\n",
       "      <th>3</th>\n",
       "      <td>13</td>\n",
       "      <td>0.249306</td>\n",
       "    </tr>\n",
       "    <tr>\n",
       "      <th>4</th>\n",
       "      <td>11</td>\n",
       "      <td>0.242907</td>\n",
       "    </tr>\n",
       "  </tbody>\n",
       "</table>\n",
       "</div>"
      ],
      "text/plain": [
       "   node_id     score\n",
       "0        7  0.269209\n",
       "1        8  0.262543\n",
       "2       10  0.260004\n",
       "3       13  0.249306\n",
       "4       11  0.242907"
      ]
     },
     "metadata": {},
     "output_type": "display_data"
    }
   ],
   "source": [
    "hits = SparseHITS()\n",
    "hits.load_graph_dataset('./data/small', is_undirected=False)\n",
    "h, a, _, _ = hits.iterate_HITS(epsilon=1e-9, maxIters=100)\n",
    "\n",
    "print(\"Top-5 rankings based on the hub score vector:\")\n",
    "display(rank_nodes(h, 5))\n",
    "\n",
    "print(\"Top-5 rankings based on the authority score vector\")\n",
    "display(rank_nodes(a, 5))"
   ]
  },
  {
   "cell_type": "markdown",
   "metadata": {},
   "source": [
    "### Step 3. Validate your HITS implementation"
   ]
  },
  {
   "cell_type": "markdown",
   "metadata": {},
   "source": [
    "We will validate the implementation of HITS. \n",
    "Similarly to PageRank, we will check if the residuals of the iterative algorithm monotonically decrease, and compare between the exact and iterative solutions of HITS. "
   ]
  },
  {
   "cell_type": "markdown",
   "metadata": {},
   "source": [
    "#### Step 3-1. Check if the residuals of the iterative algorithm monotonically decrease"
   ]
  },
  {
   "cell_type": "code",
   "execution_count": 9,
   "metadata": {},
   "outputs": [],
   "source": [
    "import matplotlib.pyplot as plt\n",
    "plt.rcParams.update({'font.size': 13}) # set the font-size in the figure\n",
    "\n",
    "def plot_residuals(residuals, title):\n",
    "    plt.semilogy(residuals, marker='o', markersize=5)\n",
    "    plt.title(title)\n",
    "    plt.ylim(bottom=1e-10, top=1e1)\n",
    "    plt.ylabel('Residual')\n",
    "    plt.xlabel('# of iterations')\n",
    "    plt.grid(True)\n",
    "    plt.show()"
   ]
  },
  {
   "cell_type": "markdown",
   "metadata": {},
   "source": [
    "Let's check the plot for the hub residuals first. "
   ]
  },
  {
   "cell_type": "code",
   "execution_count": 10,
   "metadata": {},
   "outputs": [
    {
     "data": {
      "image/png": "[encoded data removed]",
      "text/plain": [
       "<Figure size 432x288 with 1 Axes>"
      ]
     },
     "metadata": {
      "needs_background": "light"
     },
     "output_type": "display_data"
    }
   ],
   "source": [
    "hits = SparseHITS()\n",
    "hits.load_graph_dataset('./data/small', is_undirected=False)\n",
    "h, a, h_residuals, a_residuals = hits.iterate_HITS(epsilon=1e-9, maxIters=100)\n",
    "\n",
    "plot_residuals(h_residuals, 'Change of Hub Residuals from HITS')"
   ]
  },
  {
   "cell_type": "markdown",
   "metadata": {},
   "source": [
    "Next, the following will plot the authority residuals. "
   ]
  },
  {
   "cell_type": "code",
   "execution_count": 11,
   "metadata": {},
   "outputs": [
    {
     "data": {
      "image/png": "[encoded data removed]",
      "text/plain": [
       "<Figure size 432x288 with 1 Axes>"
      ]
     },
     "metadata": {
      "needs_background": "light"
     },
     "output_type": "display_data"
    }
   ],
   "source": [
    "plot_residuals(a_residuals, 'Change of Authority Residuals from HITS')"
   ]
  },
  {
   "cell_type": "markdown",
   "metadata": {},
   "source": [
    "As you can see, those residuals monotonically decrease as the number of iteration increases. "
   ]
  },
  {
   "cell_type": "markdown",
   "metadata": {},
   "source": [
    "#### Step 3-2. Check if the iterative solution is equal to the exact solution of HITS\n",
    "\n",
    "We can directly compute the hub ans authority score vectors of HITS as follows:\n",
    "* The hub score vector $\\mathbf{h}$ is the principle eigenvector of $\\mathbf{A}\\mathbf{A}^{\\top}$.\n",
    "* The authority score vector $\\mathbf{a}$ is the principle eigenvector of $\\mathbf{A}^{\\top}\\mathbf{A}$.\n",
    "\n",
    "The principle eigenvector of a matrix is an eigenvector of the largest eigenvalue. \n",
    "Suppose the Singular Value Decomposition (SVD) of the adjacency matrix is $\\mathbf{A}=\\mathbf{U}\\mathbf{S}\\mathbf{V}^{\\top}$. Then,\n",
    "* $\\mathbf{h}$ is the first (most left) vector of $\\mathbf{U}$. \n",
    "* $\\mathbf{a}$ is the first (most left) vector of $\\mathbf{V}$.\n",
    "\n",
    "We will not describe the detailed proofs for the above statements, but we can use them as the exact solutions for the hub and authority score vectors. \n",
    "\n",
    "We will implement the following function to compute the exact solutions. \n",
    "Note that since the adjacency matrix $\\mathbf{A}$ is a sparse matrix, we will use `svds` (sparse SVD) in `scipy`.\n",
    "* `svds`: this performs SVD on a sparse matrix\n",
    "    - https://docs.scipy.org/doc/scipy/reference/generated/scipy.sparse.linalg.svds.html"
   ]
  },
  {
   "cell_type": "code",
   "execution_count": 12,
   "metadata": {},
   "outputs": [],
   "source": [
    "from scipy.sparse.linalg import svds\n",
    "\n",
    "class SparseHITS(SparseHITS):\n",
    "    def compute_exact_HITS(self):\n",
    "        '''\n",
    "        Compute the exact hub & authority score vectors from the closed form\n",
    "\n",
    "        outputs:\n",
    "            h: np.ndarray (n x 1 vector)\n",
    "                the final hub score vector\n",
    "            a: np.ndarray (n x 1 vector)\n",
    "                the final authority score vector\n",
    "        '''\n",
    "        h, s, a = svds(self.A, k=1)\n",
    "        \n",
    "        h = np.asarray(h).flatten()   \n",
    "        a = np.asarray(a).flatten()\n",
    "        \n",
    "        # since SVD is not unique, h and a could be negative according to a random seed\n",
    "        # in this case, we need to make the scores non-negative and L2-normalize them out\n",
    "        h = h * np.sign(h)\n",
    "        h = h / np.linalg.norm(h, 2)\n",
    "        a = a * np.sign(a)\n",
    "        a = a / np.linalg.norm(a, 2)\n",
    "        \n",
    "        return h, a"
   ]
  },
  {
   "cell_type": "markdown",
   "metadata": {},
   "source": [
    "Let's check the error between the exact and iterative solutions of HITS. "
   ]
  },
  {
   "cell_type": "code",
   "execution_count": 13,
   "metadata": {},
   "outputs": [
    {
     "name": "stdout",
     "output_type": "stream",
     "text": [
      "Error between exact and iterative hub scores: 1.275381e-10\n",
      "Error between exact and iterative authority scores: 4.813519e-11\n"
     ]
    }
   ],
   "source": [
    "hits = SparseHITS()\n",
    "hits.load_graph_dataset('./data/small', is_undirected=False)\n",
    "h_exact, a_exact = hits.compute_exact_HITS()\n",
    "h_iter, a_iter, _, _ = hits.iterate_HITS(epsilon=1e-9, maxIters=100)\n",
    "\n",
    "h_error = np.linalg.norm(h_exact - h_iter, 1)\n",
    "print(\"Error between exact and iterative hub scores: {:e}\".format(h_error))\n",
    "\n",
    "a_error = np.linalg.norm(a_exact - a_iter, 1)\n",
    "print(\"Error between exact and iterative authority scores: {:e}\".format(a_error))"
   ]
  },
  {
   "cell_type": "markdown",
   "metadata": {},
   "source": [
    "### Step 4. Qualitative analysis of the ranking result from HITS\n",
    "\n",
    "Now, we will do a qualitative analysis of the ranking result from HITS on a real-world graph. \n",
    "For this, we first use the following code which is already implemented through the previous session. "
   ]
  },
  {
   "cell_type": "code",
   "execution_count": 14,
   "metadata": {},
   "outputs": [],
   "source": [
    "class SparseHITS(SparseHITS):\n",
    "    def rank_nodes(self, ranking_scores, topk=-1):\n",
    "        '''\n",
    "        Rank nodes in the order of given ranking scores. \n",
    "        This function reports top-k rankings. \n",
    "\n",
    "        inputs:\n",
    "            ranking_scores: np.ndarray\n",
    "                ranking score vector\n",
    "            topk: int\n",
    "                top-k ranking parameter, default is -1 indicating report all ranks\n",
    "        '''\n",
    "        sorted_nodes = np.flipud(np.argsort(ranking_scores)) # argsort in the descending order\n",
    "        sorted_scores = ranking_scores[sorted_nodes]         # sort the ranking scores\n",
    "        ranks = range(1, self.n+1) # 0~n-1\n",
    "\n",
    "        result_labels = self.node_labels.iloc[sorted_nodes][0:topk]\n",
    "        result_labels.insert(0, \"rank\", ranks[0:topk])\n",
    "        result_labels[\"score\"] = sorted_scores[0:topk]\n",
    "        result_labels.reset_index(drop = True, inplace = True)\n",
    "        return result_labels"
   ]
  },
  {
   "cell_type": "markdown",
   "metadata": {},
   "source": [
    "The dataset used in this step is *enron* at `./data/enron` which has been used in Session 2. \n",
    "Please refer to Session 2 for the detailed description for the dataset. \n",
    "\n",
    "After loading the dataset, we will compute the hub ans authority score vectors of HITS. "
   ]
  },
  {
   "cell_type": "code",
   "execution_count": 15,
   "metadata": {},
   "outputs": [],
   "source": [
    "data_home = './data/enron'\n",
    "hits = SparseHITS()\n",
    "hits.load_graph_dataset(data_home, is_undirected=False)\n",
    "hits.load_node_labels(data_home)\n",
    "h, a, h_residuals, a_residuals = hits.iterate_HITS(epsilon=1e-9, maxIters=100)"
   ]
  },
  {
   "cell_type": "markdown",
   "metadata": {},
   "source": [
    "Let's check the top-10 rankings based on the hub score vector in the network. "
   ]
  },
  {
   "cell_type": "code",
   "execution_count": 16,
   "metadata": {},
   "outputs": [
    {
     "name": "stdout",
     "output_type": "stream",
     "text": [
      "Top-10 rankings based on the hub score vector:\n"
     ]
    },
    {
     "data": {
      "text/html": [
       "<div>\n",
       "<style scoped>\n",
       "    .dataframe tbody tr th:only-of-type {\n",
       "        vertical-align: middle;\n",
       "    }\n",
       "\n",
       "    .dataframe tbody tr th {\n",
       "        vertical-align: top;\n",
       "    }\n",
       "\n",
       "    .dataframe thead th {\n",
       "        text-align: right;\n",
       "    }\n",
       "</style>\n",
       "<table border=\"1\" class=\"dataframe\">\n",
       "  <thead>\n",
       "    <tr style=\"text-align: right;\">\n",
       "      <th></th>\n",
       "      <th>rank</th>\n",
       "      <th>node_id</th>\n",
       "      <th>address</th>\n",
       "      <th>score</th>\n",
       "    </tr>\n",
       "  </thead>\n",
       "  <tbody>\n",
       "    <tr>\n",
       "      <th>0</th>\n",
       "      <td>1</td>\n",
       "      <td>141</td>\n",
       "      <td>no.address@enron.com</td>\n",
       "      <td>0.464946</td>\n",
       "    </tr>\n",
       "    <tr>\n",
       "      <th>1</th>\n",
       "      <td>2</td>\n",
       "      <td>371</td>\n",
       "      <td>40enron@enron.com</td>\n",
       "      <td>0.301402</td>\n",
       "    </tr>\n",
       "    <tr>\n",
       "      <th>2</th>\n",
       "      <td>3</td>\n",
       "      <td>733</td>\n",
       "      <td>tana.jones@enron.com</td>\n",
       "      <td>0.155692</td>\n",
       "    </tr>\n",
       "    <tr>\n",
       "      <th>3</th>\n",
       "      <td>4</td>\n",
       "      <td>671</td>\n",
       "      <td>sara.shackleton@enron.com</td>\n",
       "      <td>0.135909</td>\n",
       "    </tr>\n",
       "    <tr>\n",
       "      <th>4</th>\n",
       "      <td>5</td>\n",
       "      <td>105</td>\n",
       "      <td>steven.kean@enron.com</td>\n",
       "      <td>0.124172</td>\n",
       "    </tr>\n",
       "    <tr>\n",
       "      <th>5</th>\n",
       "      <td>6</td>\n",
       "      <td>1328</td>\n",
       "      <td>mark.haedicke@enron.com</td>\n",
       "      <td>0.114921</td>\n",
       "    </tr>\n",
       "    <tr>\n",
       "      <th>6</th>\n",
       "      <td>7</td>\n",
       "      <td>90</td>\n",
       "      <td>jeff.dasovich@enron.com</td>\n",
       "      <td>0.110499</td>\n",
       "    </tr>\n",
       "    <tr>\n",
       "      <th>7</th>\n",
       "      <td>8</td>\n",
       "      <td>1624</td>\n",
       "      <td>mark.taylor@enron.com</td>\n",
       "      <td>0.108638</td>\n",
       "    </tr>\n",
       "    <tr>\n",
       "      <th>8</th>\n",
       "      <td>9</td>\n",
       "      <td>2</td>\n",
       "      <td>john.lavorato@enron.com</td>\n",
       "      <td>0.107663</td>\n",
       "    </tr>\n",
       "    <tr>\n",
       "      <th>9</th>\n",
       "      <td>10</td>\n",
       "      <td>156</td>\n",
       "      <td>louise.kitchen@enron.com</td>\n",
       "      <td>0.105987</td>\n",
       "    </tr>\n",
       "  </tbody>\n",
       "</table>\n",
       "</div>"
      ],
      "text/plain": [
       "   rank  node_id                    address     score\n",
       "0     1      141       no.address@enron.com  0.464946\n",
       "1     2      371          40enron@enron.com  0.301402\n",
       "2     3      733       tana.jones@enron.com  0.155692\n",
       "3     4      671  sara.shackleton@enron.com  0.135909\n",
       "4     5      105      steven.kean@enron.com  0.124172\n",
       "5     6     1328    mark.haedicke@enron.com  0.114921\n",
       "6     7       90    jeff.dasovich@enron.com  0.110499\n",
       "7     8     1624      mark.taylor@enron.com  0.108638\n",
       "8     9        2    john.lavorato@enron.com  0.107663\n",
       "9    10      156   louise.kitchen@enron.com  0.105987"
      ]
     },
     "metadata": {},
     "output_type": "display_data"
    }
   ],
   "source": [
    "print(\"Top-10 rankings based on the hub score vector:\")\n",
    "display(hits.rank_nodes(h, topk=10))"
   ]
  },
  {
   "cell_type": "markdown",
   "metadata": {},
   "source": [
    "Let's check the top-10 rankings based on the authority score vector in the network. "
   ]
  },
  {
   "cell_type": "code",
   "execution_count": 17,
   "metadata": {},
   "outputs": [
    {
     "name": "stdout",
     "output_type": "stream",
     "text": [
      "Top-10 rankings based on the authority score vector:\n"
     ]
    },
    {
     "data": {
      "text/html": [
       "<div>\n",
       "<style scoped>\n",
       "    .dataframe tbody tr th:only-of-type {\n",
       "        vertical-align: middle;\n",
       "    }\n",
       "\n",
       "    .dataframe tbody tr th {\n",
       "        vertical-align: top;\n",
       "    }\n",
       "\n",
       "    .dataframe thead th {\n",
       "        text-align: right;\n",
       "    }\n",
       "</style>\n",
       "<table border=\"1\" class=\"dataframe\">\n",
       "  <thead>\n",
       "    <tr style=\"text-align: right;\">\n",
       "      <th></th>\n",
       "      <th>rank</th>\n",
       "      <th>node_id</th>\n",
       "      <th>address</th>\n",
       "      <th>score</th>\n",
       "    </tr>\n",
       "  </thead>\n",
       "  <tbody>\n",
       "    <tr>\n",
       "      <th>0</th>\n",
       "      <td>1</td>\n",
       "      <td>156</td>\n",
       "      <td>louise.kitchen@enron.com</td>\n",
       "      <td>0.196387</td>\n",
       "    </tr>\n",
       "    <tr>\n",
       "      <th>1</th>\n",
       "      <td>2</td>\n",
       "      <td>2</td>\n",
       "      <td>john.lavorato@enron.com</td>\n",
       "      <td>0.149168</td>\n",
       "    </tr>\n",
       "    <tr>\n",
       "      <th>2</th>\n",
       "      <td>3</td>\n",
       "      <td>228</td>\n",
       "      <td>greg.whalley@enron.com</td>\n",
       "      <td>0.137076</td>\n",
       "    </tr>\n",
       "    <tr>\n",
       "      <th>3</th>\n",
       "      <td>4</td>\n",
       "      <td>97</td>\n",
       "      <td>sally.beck@enron.com</td>\n",
       "      <td>0.126122</td>\n",
       "    </tr>\n",
       "    <tr>\n",
       "      <th>4</th>\n",
       "      <td>5</td>\n",
       "      <td>733</td>\n",
       "      <td>tana.jones@enron.com</td>\n",
       "      <td>0.125953</td>\n",
       "    </tr>\n",
       "    <tr>\n",
       "      <th>5</th>\n",
       "      <td>6</td>\n",
       "      <td>1</td>\n",
       "      <td>tim.belden@enron.com</td>\n",
       "      <td>0.120326</td>\n",
       "    </tr>\n",
       "    <tr>\n",
       "      <th>6</th>\n",
       "      <td>7</td>\n",
       "      <td>1624</td>\n",
       "      <td>mark.taylor@enron.com</td>\n",
       "      <td>0.119657</td>\n",
       "    </tr>\n",
       "    <tr>\n",
       "      <th>7</th>\n",
       "      <td>8</td>\n",
       "      <td>1136</td>\n",
       "      <td>elizabeth.sager@enron.com</td>\n",
       "      <td>0.108948</td>\n",
       "    </tr>\n",
       "    <tr>\n",
       "      <th>8</th>\n",
       "      <td>9</td>\n",
       "      <td>671</td>\n",
       "      <td>sara.shackleton@enron.com</td>\n",
       "      <td>0.108918</td>\n",
       "    </tr>\n",
       "    <tr>\n",
       "      <th>9</th>\n",
       "      <td>10</td>\n",
       "      <td>136</td>\n",
       "      <td>richard.shapiro@enron.com</td>\n",
       "      <td>0.103350</td>\n",
       "    </tr>\n",
       "  </tbody>\n",
       "</table>\n",
       "</div>"
      ],
      "text/plain": [
       "   rank  node_id                    address     score\n",
       "0     1      156   louise.kitchen@enron.com  0.196387\n",
       "1     2        2    john.lavorato@enron.com  0.149168\n",
       "2     3      228     greg.whalley@enron.com  0.137076\n",
       "3     4       97       sally.beck@enron.com  0.126122\n",
       "4     5      733       tana.jones@enron.com  0.125953\n",
       "5     6        1       tim.belden@enron.com  0.120326\n",
       "6     7     1624      mark.taylor@enron.com  0.119657\n",
       "7     8     1136  elizabeth.sager@enron.com  0.108948\n",
       "8     9      671  sara.shackleton@enron.com  0.108918\n",
       "9    10      136  richard.shapiro@enron.com  0.103350"
      ]
     },
     "metadata": {},
     "output_type": "display_data"
    }
   ],
   "source": [
    "print(\"Top-10 rankings based on the authority score vector:\")\n",
    "display(hits.rank_nodes(a, topk=10))"
   ]
  },
  {
   "cell_type": "markdown",
   "metadata": {},
   "source": [
    "## Session 4. Summary"
   ]
  },
  {
   "cell_type": "markdown",
   "metadata": {},
   "source": [
    "In this session, we implemented HITS algorithm (the sparse matrix version) in Python. \n",
    "More specifically, we are able to answer the following goals now. \n",
    "\n",
    "* **Goal 1.** How to implement HITS based on sparse matrices using `numpy` and `scipy` in Python\n",
    "    - We implemented the iterative algorithm for HITS based on sparse matrices.\n",
    "* **Goal 2.** To perform a qualitative analysis of the ranking result from HITS in real-world networks\n",
    "    - We performed a qualitative analysis on the `enron` dataset which is a real-world network. \n"
   ]
  }
 ],
 "metadata": {
  "kernelspec": {
   "display_name": "Python 3",
   "language": "python",
   "name": "python3"
  },
  "language_info": {
   "codemirror_mode": {
    "name": "ipython",
    "version": 3
   },
   "file_extension": ".py",
   "mimetype": "text/x-python",
   "name": "python",
   "nbconvert_exporter": "python",
   "pygments_lexer": "ipython3",
   "version": "3.8.5"
  }
 },
 "nbformat": 4,
 "nbformat_minor": 2
}
